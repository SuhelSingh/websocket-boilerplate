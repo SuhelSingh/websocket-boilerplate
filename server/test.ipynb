{
 "cells": [
  {
   "cell_type": "raw",
   "id": "1097bd87-f8ef-4743-909d-41b72efe867c",
   "metadata": {},
   "source": [
    "import flask"
   ]
  },
  {
   "cell_type": "code",
   "execution_count": 1,
   "id": "c8b4ed15-cdc8-4f9d-8d34-81b720b941bd",
   "metadata": {},
   "outputs": [],
   "source": [
    "import requests"
   ]
  },
  {
   "cell_type": "markdown",
   "id": "a99b328e-558d-49ce-b82d-175584cca1d4",
   "metadata": {},
   "source": [
    "# Ad-hoc"
   ]
  },
  {
   "cell_type": "markdown",
   "id": "6dc0df28-430a-4e41-b2ea-6056334cc29f",
   "metadata": {},
   "source": [
    "### Test API locally"
   ]
  },
  {
   "cell_type": "code",
   "execution_count": 23,
   "id": "94b37a6c-4068-4a34-aff6-d390f8da8368",
   "metadata": {},
   "outputs": [
    {
     "data": {
      "text/plain": [
       "'<p>Hello, World!</p>'"
      ]
     },
     "execution_count": 23,
     "metadata": {},
     "output_type": "execute_result"
    }
   ],
   "source": [
    "requests.get('http://127.0.0.1:5000/').text"
   ]
  },
  {
   "cell_type": "code",
   "execution_count": 30,
   "id": "52a78cbe-4e54-4c34-b895-bb0229f68d78",
   "metadata": {},
   "outputs": [
    {
     "data": {
      "text/plain": [
       "'u)&(ov^011'"
      ]
     },
     "execution_count": 30,
     "metadata": {},
     "output_type": "execute_result"
    }
   ],
   "source": [
    "requests.get('http://react-tutorial-server:5000/random_string').text"
   ]
  },
  {
   "cell_type": "code",
   "execution_count": 26,
   "id": "fe6f739d-af45-427c-a954-f06757376da8",
   "metadata": {},
   "outputs": [
    {
     "data": {
      "text/plain": [
       "'<p>Hello, World!</p>'"
      ]
     },
     "execution_count": 26,
     "metadata": {},
     "output_type": "execute_result"
    }
   ],
   "source": [
    "requests.get('http://react-tutorial-server:5000/').text"
   ]
  },
  {
   "cell_type": "raw",
   "id": "4979c7c7-5577-40d2-93ae-2c5274d7c9db",
   "metadata": {},
   "source": [
    "requests.get('http://react-tutorial-client:3000/').text"
   ]
  },
  {
   "cell_type": "code",
   "execution_count": 22,
   "id": "fef15d2c-63b2-4639-ab06-8112b0e91377",
   "metadata": {},
   "outputs": [
    {
     "data": {
      "text/plain": [
       "'<p>Hello, World!</p>'"
      ]
     },
     "execution_count": 22,
     "metadata": {},
     "output_type": "execute_result"
    }
   ],
   "source": [
    "requests.get('http://192.168.16.3:5000/').text"
   ]
  },
  {
   "cell_type": "code",
   "execution_count": 24,
   "id": "6649e325-ab2b-4cff-a2bf-3c9e346e2ed8",
   "metadata": {},
   "outputs": [
    {
     "data": {
      "text/plain": [
       "'$a0+wf~m2#'"
      ]
     },
     "execution_count": 24,
     "metadata": {},
     "output_type": "execute_result"
    }
   ],
   "source": [
    "requests.get('http://127.0.0.1:5000/random_string').text"
   ]
  },
  {
   "cell_type": "code",
   "execution_count": 25,
   "id": "cfcdffc3-34d0-48bb-a1f0-d6e276993cc0",
   "metadata": {},
   "outputs": [
    {
     "data": {
      "text/plain": [
       "'2x2@)ojr%0'"
      ]
     },
     "execution_count": 25,
     "metadata": {},
     "output_type": "execute_result"
    }
   ],
   "source": [
    "requests.get('http://react-tutorial-server:5000/random_string').text"
   ]
  },
  {
   "cell_type": "markdown",
   "id": "5082e605-5be2-4817-b109-20ff0b145c61",
   "metadata": {},
   "source": [
    "### CORS"
   ]
  },
  {
   "cell_type": "code",
   "execution_count": 40,
   "id": "e816712b-77f4-4d7e-8cbd-380f3b64ddf1",
   "metadata": {},
   "outputs": [],
   "source": [
    "resp = requests.get('http://react-tutorial-server:5000/random_string')"
   ]
  },
  {
   "cell_type": "code",
   "execution_count": 41,
   "id": "a4c17174-6d3c-4bae-bf1f-5fb9e3759b6e",
   "metadata": {},
   "outputs": [
    {
     "data": {
      "text/plain": [
       "'gzuhm@39*2'"
      ]
     },
     "execution_count": 41,
     "metadata": {},
     "output_type": "execute_result"
    }
   ],
   "source": [
    "resp.text"
   ]
  },
  {
   "cell_type": "code",
   "execution_count": 42,
   "id": "594a7867-8048-41fe-bb40-9305b2dd6b16",
   "metadata": {},
   "outputs": [
    {
     "data": {
      "text/plain": [
       "{'Content-Type': 'text/html; charset=utf-8', 'Content-Length': '10', 'Access-Control-Allow-Origin': '*', 'Server': 'Werkzeug/2.0.1 Python/3.9.7', 'Date': 'Sat, 22 Jan 2022 17:42:56 GMT'}"
      ]
     },
     "execution_count": 42,
     "metadata": {},
     "output_type": "execute_result"
    }
   ],
   "source": [
    "resp.headers"
   ]
  },
  {
   "cell_type": "code",
   "execution_count": null,
   "id": "e3556500-4354-4b4c-a2e4-c394aa041ff4",
   "metadata": {},
   "outputs": [],
   "source": []
  }
 ],
 "metadata": {
  "kernelspec": {
   "display_name": "Python 3 (ipykernel)",
   "language": "python",
   "name": "python3"
  },
  "language_info": {
   "codemirror_mode": {
    "name": "ipython",
    "version": 3
   },
   "file_extension": ".py",
   "mimetype": "text/x-python",
   "name": "python",
   "nbconvert_exporter": "python",
   "pygments_lexer": "ipython3",
   "version": "3.9.7"
  }
 },
 "nbformat": 4,
 "nbformat_minor": 5
}
